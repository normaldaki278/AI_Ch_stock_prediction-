{
  "nbformat": 4,
  "nbformat_minor": 0,
  "metadata": {
    "colab": {
      "provenance": []
    },
    "kernelspec": {
      "name": "python3",
      "display_name": "Python 3"
    },
    "language_info": {
      "name": "python"
    }
  },
  "cells": [
    {
      "cell_type": "code",
      "source": [
        "# установка gigachat для обращения к модели\n",
        "!pip install gigachat"
      ],
      "metadata": {
        "collapsed": true,
        "id": "M1rUyn4WKCuC"
      },
      "execution_count": null,
      "outputs": []
    },
    {
      "cell_type": "code",
      "source": [
        "# импорт нужных библиотек, пригодятся только pandas и gigachat\n",
        "from gigachat import GigaChat\n",
        "import pandas as pd\n",
        "# для запуска необходимо вставить свой API ключ\n",
        "api_key = ''"
      ],
      "metadata": {
        "id": "CraC69uVKERc"
      },
      "execution_count": 2,
      "outputs": []
    },
    {
      "cell_type": "code",
      "source": [
        "# Функция для получения первого системного промпта\n",
        "def sys_prompt1_func(comp, current_date, stage, news_excerpt):\n",
        "  # удалили текущие промпты для безопасности\n",
        "  sys_prompt1 = (\n",
        "  f\" Тут находился системный промпт 1 для Гигачат, но мы его убрали перед публикацией на GitHUB \"\n",
        "  f\" Системный промпт содержал также указание компании {comp}, даты {current_date}, \"\n",
        "  f\" опыт трейдера {stage}, текст новости {news_excerpt}\"\n",
        "  )\n",
        "  return sys_prompt1\n",
        "\n",
        "# функция для получения второго системного промпта\n",
        "def sys_prompt2_func(comp, current_date, stage, news_excerpt, response1):\n",
        "  # удалили текущие промпты для безопасности\n",
        "  sys_prompt2 = (\n",
        "  f\" Тут находился системный промпт 2 для Гигачат, но мы его убрали перед публикацией на GitHUB \"\n",
        "  f\" Системный промпт содержал также указание компании {comp}, даты {current_date}, \"\n",
        "  f\" опыт трейдера {stage}, текст новости {news_excerpt}, а также первый ответ модели {response1}\"\n",
        "  )\n",
        "  return sys_prompt2\n",
        "\n",
        "# функция для получения ответа от GigaChat по системным промптам\n",
        "def get_responses(comp, news_excerpt, current_date, stage):\n",
        "\n",
        "      sys_prompt1 = sys_prompt1_func(comp=comp, current_date=current_date, stage=stage, news_excerpt=news_excerpt)\n",
        "\n",
        "      with GigaChat(credentials=api_key, verify_ssl_certs=False) as giga:\n",
        "          try:\n",
        "              response = giga.chat(sys_prompt1)\n",
        "              response1 = response.choices[0].message.content\n",
        "\n",
        "          except Exception as e:\n",
        "              print(\"Ошибка:\", e)\n",
        "\n",
        "      sys_prompt2 = sys_prompt2_func(comp=comp, current_date=current_date, stage=stage, news_excerpt=news_excerpt, response1=response1)\n",
        "\n",
        "      with GigaChat(credentials=api_key, verify_ssl_certs=False) as giga:\n",
        "          try:\n",
        "              response = giga.chat(sys_prompt2 + response1)\n",
        "              response2 = response.choices[0].message.content\n",
        "              return response2\n",
        "          except Exception as e:\n",
        "              print(\"Ошибка:\", e)"
      ],
      "metadata": {
        "id": "-nPnOXadKhWN"
      },
      "execution_count": 20,
      "outputs": []
    }
  ]
}